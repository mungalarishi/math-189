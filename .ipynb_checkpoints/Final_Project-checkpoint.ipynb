{
 "cells": [
  {
   "cell_type": "markdown",
   "id": "a8b6ac10-743f-48cb-838f-64e325628512",
   "metadata": {},
   "source": [
    "\n"
   ]
  },
  {
   "cell_type": "markdown",
   "id": "c751b108-01d3-4b5a-a3ed-e98ce7671804",
   "metadata": {},
   "source": [
    "# Statistical Analysis on Physical Attributes for Swimming"
   ]
  },
  {
   "cell_type": "markdown",
   "id": "a2bad1cd-6af6-4a71-904f-6d2c9b885a1b",
   "metadata": {},
   "source": [
    "**Names:**\n",
    "<br />\n",
    "Rishi Munagala<br />\n",
    "Peggy Ma<br />\n",
    "Luis Martinez-Chun<br />\n",
    "<br />\n",
    "**Topic:**\n",
    "<br />\n",
    "Best Physical Attributes for Swimming\n",
    "\n",
    "\n",
    "**Research Question:** \n",
    "<br />\n",
    "Does age, height, weight, and gender contribute towards better performance (measured through medals won) for swimmers?\n",
    "\n",
    "\n",
    "**Background:**\n",
    "<br />\n",
    "Swimming is a popular and competitive sport that many individuals try to become the best so they can be competitive athletes. Like many sports, it demands many physical attributes to succeed in it. Understanding how athletes who perform swimming at the highest level can lay foundational value for coaches and even individuals who want to consider competing for their future. This is why the Olympic Athletes dataset will be well equipped to provide this information since it provides the height, weight, and age of the athletes and how they performed in terms of receiving medals signifying their success. \n",
    "<br />\n",
    "This topic is important as it helps to lay paradigms in training for one’s success in swimming. By looking at the different physical attributes that can be most correlated to success. (1) The scope of this problem is large as over 31 million people in the United States alone went swimming and and 3.33 million swam on a team highlighting the number of individuals it impacts.\n",
    "(2) Past studies have even found that height and body composition can be crucial towards becoming an elite swimming athlete. However, these studies do not go into the depths of exploring the combinations between height and weight or even age and how they can play a factor in these. However, these studies will lay the groundwork for how we can approach these studies and the methods used. (hne study aimed to study how body measurements can relate to the performance of college swimmers. It provided that regression analysis was key to understanding whether their hypothesis of the correlation was true. \n",
    "\n",
    "<br />\n",
    "(1) https://www.statista.com/statistics/191621/participants-in-swimming-in-the-us-since-2006/ \n",
    "<br />\n",
    "(2) https://pubmed.ncbi.nlm.nih.gov/11043893/ \n",
    "<br />\n",
    "(3) https://www.researchgate.net/publication/268523669_Morphology_and_swimming_peformance \n",
    "<br />\n",
    "\n",
    "<br />\n",
    "\n",
    "**Data:**\n",
    "<br />\n",
    "The primary data source for this project is the \"120 years of Olympic history: athletes and results\" dataset from Kaggle. This dataset includes comprehensive information about Olympic athletes, such as age, height, weight, gender, and performance outcomes (medals won). We will perform descriptive statistics, correlation analysis, and multiple regression analysis to explore the relationships between these variables and swimming performance. Data visualization techniques will help communicate our findings effectively. Hypothesis testing will determine the statistical significance of the observed relationships.\n",
    "\n",
    "\n",
    "**Hypothesis:**\n",
    "<br />\n",
    "We predict that age, height, weight, and gender will significantly correlate with swimming performance, with younger, taller individuals with lighter weight and males having higher medal achievements."
   ]
  },
  {
   "cell_type": "markdown",
   "id": "19fca843-9ead-4aeb-a653-b5dc1c52c024",
   "metadata": {},
   "source": [
    "## Data Wrangling"
   ]
  },
  {
   "cell_type": "code",
   "execution_count": 1,
   "id": "b4d3546b-7b87-444d-9356-5b9b70c57056",
   "metadata": {},
   "outputs": [],
   "source": [
    "import pandas as pd\n",
    "import numpy as np\n",
    "import seaborn as sns\n",
    "import matplotlib.pyplot as plt\n",
    "from sklearn.linear_model import LinearRegression, Ridge, Lasso, ElasticNet\n",
    "from sklearn.decomposition import PCA\n",
    "from sklearn.preprocessing import StandardScaler\n",
    "from statsmodels.stats.outliers_influence import variance_inflation_factor\n",
    "import statsmodels.api as sm\n",
    "import statsmodels.formula.api as smf"
   ]
  },
  {
   "cell_type": "code",
   "execution_count": 2,
   "id": "06f0aa82-4c80-4d52-be22-af9333254b51",
   "metadata": {},
   "outputs": [
    {
     "data": {
      "text/html": [
       "<div>\n",
       "<style scoped>\n",
       "    .dataframe tbody tr th:only-of-type {\n",
       "        vertical-align: middle;\n",
       "    }\n",
       "\n",
       "    .dataframe tbody tr th {\n",
       "        vertical-align: top;\n",
       "    }\n",
       "\n",
       "    .dataframe thead th {\n",
       "        text-align: right;\n",
       "    }\n",
       "</style>\n",
       "<table border=\"1\" class=\"dataframe\">\n",
       "  <thead>\n",
       "    <tr style=\"text-align: right;\">\n",
       "      <th></th>\n",
       "      <th>ID</th>\n",
       "      <th>Name</th>\n",
       "      <th>Sex</th>\n",
       "      <th>Age</th>\n",
       "      <th>Height</th>\n",
       "      <th>Weight</th>\n",
       "      <th>Team</th>\n",
       "      <th>NOC</th>\n",
       "      <th>Games</th>\n",
       "      <th>Year</th>\n",
       "      <th>Season</th>\n",
       "      <th>City</th>\n",
       "      <th>Sport</th>\n",
       "      <th>Event</th>\n",
       "      <th>Medal</th>\n",
       "      <th>Performance</th>\n",
       "      <th>Gender</th>\n",
       "    </tr>\n",
       "  </thead>\n",
       "  <tbody>\n",
       "    <tr>\n",
       "      <th>100</th>\n",
       "      <td>36</td>\n",
       "      <td>Stefan Remco Aartsen</td>\n",
       "      <td>M</td>\n",
       "      <td>21.0</td>\n",
       "      <td>194.0</td>\n",
       "      <td>78.0</td>\n",
       "      <td>Netherlands</td>\n",
       "      <td>NED</td>\n",
       "      <td>1996 Summer</td>\n",
       "      <td>1996</td>\n",
       "      <td>Summer</td>\n",
       "      <td>Atlanta</td>\n",
       "      <td>Swimming</td>\n",
       "      <td>Swimming Men's 100 metres Butterfly</td>\n",
       "      <td>NaN</td>\n",
       "      <td>0.0</td>\n",
       "      <td>1</td>\n",
       "    </tr>\n",
       "    <tr>\n",
       "      <th>101</th>\n",
       "      <td>36</td>\n",
       "      <td>Stefan Remco Aartsen</td>\n",
       "      <td>M</td>\n",
       "      <td>21.0</td>\n",
       "      <td>194.0</td>\n",
       "      <td>78.0</td>\n",
       "      <td>Netherlands</td>\n",
       "      <td>NED</td>\n",
       "      <td>1996 Summer</td>\n",
       "      <td>1996</td>\n",
       "      <td>Summer</td>\n",
       "      <td>Atlanta</td>\n",
       "      <td>Swimming</td>\n",
       "      <td>Swimming Men's 200 metres Butterfly</td>\n",
       "      <td>NaN</td>\n",
       "      <td>0.0</td>\n",
       "      <td>1</td>\n",
       "    </tr>\n",
       "    <tr>\n",
       "      <th>102</th>\n",
       "      <td>36</td>\n",
       "      <td>Stefan Remco Aartsen</td>\n",
       "      <td>M</td>\n",
       "      <td>21.0</td>\n",
       "      <td>194.0</td>\n",
       "      <td>78.0</td>\n",
       "      <td>Netherlands</td>\n",
       "      <td>NED</td>\n",
       "      <td>1996 Summer</td>\n",
       "      <td>1996</td>\n",
       "      <td>Summer</td>\n",
       "      <td>Atlanta</td>\n",
       "      <td>Swimming</td>\n",
       "      <td>Swimming Men's 4 x 100 metres Medley Relay</td>\n",
       "      <td>NaN</td>\n",
       "      <td>0.0</td>\n",
       "      <td>1</td>\n",
       "    </tr>\n",
       "    <tr>\n",
       "      <th>103</th>\n",
       "      <td>36</td>\n",
       "      <td>Stefan Remco Aartsen</td>\n",
       "      <td>M</td>\n",
       "      <td>25.0</td>\n",
       "      <td>194.0</td>\n",
       "      <td>78.0</td>\n",
       "      <td>Netherlands</td>\n",
       "      <td>NED</td>\n",
       "      <td>2000 Summer</td>\n",
       "      <td>2000</td>\n",
       "      <td>Summer</td>\n",
       "      <td>Sydney</td>\n",
       "      <td>Swimming</td>\n",
       "      <td>Swimming Men's 100 metres Butterfly</td>\n",
       "      <td>NaN</td>\n",
       "      <td>0.0</td>\n",
       "      <td>1</td>\n",
       "    </tr>\n",
       "    <tr>\n",
       "      <th>104</th>\n",
       "      <td>36</td>\n",
       "      <td>Stefan Remco Aartsen</td>\n",
       "      <td>M</td>\n",
       "      <td>25.0</td>\n",
       "      <td>194.0</td>\n",
       "      <td>78.0</td>\n",
       "      <td>Netherlands</td>\n",
       "      <td>NED</td>\n",
       "      <td>2000 Summer</td>\n",
       "      <td>2000</td>\n",
       "      <td>Summer</td>\n",
       "      <td>Sydney</td>\n",
       "      <td>Swimming</td>\n",
       "      <td>Swimming Men's 200 metres Butterfly</td>\n",
       "      <td>NaN</td>\n",
       "      <td>0.0</td>\n",
       "      <td>1</td>\n",
       "    </tr>\n",
       "  </tbody>\n",
       "</table>\n",
       "</div>"
      ],
      "text/plain": [
       "     ID                  Name Sex   Age  Height  Weight         Team  NOC  \\\n",
       "100  36  Stefan Remco Aartsen   M  21.0   194.0    78.0  Netherlands  NED   \n",
       "101  36  Stefan Remco Aartsen   M  21.0   194.0    78.0  Netherlands  NED   \n",
       "102  36  Stefan Remco Aartsen   M  21.0   194.0    78.0  Netherlands  NED   \n",
       "103  36  Stefan Remco Aartsen   M  25.0   194.0    78.0  Netherlands  NED   \n",
       "104  36  Stefan Remco Aartsen   M  25.0   194.0    78.0  Netherlands  NED   \n",
       "\n",
       "           Games  Year  Season     City     Sport  \\\n",
       "100  1996 Summer  1996  Summer  Atlanta  Swimming   \n",
       "101  1996 Summer  1996  Summer  Atlanta  Swimming   \n",
       "102  1996 Summer  1996  Summer  Atlanta  Swimming   \n",
       "103  2000 Summer  2000  Summer   Sydney  Swimming   \n",
       "104  2000 Summer  2000  Summer   Sydney  Swimming   \n",
       "\n",
       "                                          Event Medal  Performance  Gender  \n",
       "100         Swimming Men's 100 metres Butterfly   NaN          0.0       1  \n",
       "101         Swimming Men's 200 metres Butterfly   NaN          0.0       1  \n",
       "102  Swimming Men's 4 x 100 metres Medley Relay   NaN          0.0       1  \n",
       "103         Swimming Men's 100 metres Butterfly   NaN          0.0       1  \n",
       "104         Swimming Men's 200 metres Butterfly   NaN          0.0       1  "
      ]
     },
     "execution_count": 2,
     "metadata": {},
     "output_type": "execute_result"
    }
   ],
   "source": [
    "# Load the dataset\n",
    "data = pd.read_csv('athlete_events.csv')\n",
    "\n",
    "# Filter data for swimmers\n",
    "swimmers = data[data['Sport'] == 'Swimming']\n",
    "\n",
    "# Remove rows with missing values for Age, Height, and Weight\n",
    "swimmers = swimmers.dropna(subset=['Age', 'Height', 'Weight'])\n",
    "\n",
    "# Create performance variable\n",
    "medal_mapping = {'Gold': 3, 'Silver': 2, 'Bronze': 1}\n",
    "swimmers['Performance'] = swimmers['Medal'].map(medal_mapping).fillna(0)\n",
    "\n",
    "# Encode gender as a binary variable\n",
    "swimmers['Gender'] = swimmers['Sex'].apply(lambda x: 1 if x == 'M' else 0)\n",
    "\n",
    "# Display the first few rows of the cleaned dataset\n",
    "swimmers.head()"
   ]
  },
  {
   "cell_type": "markdown",
   "id": "653e5a7f-958a-458c-8903-d92efddf5f1a",
   "metadata": {},
   "source": [
    "We cleaned the dataset by dropping all the empty rows and filtering to only Swimming sport events. For the analysis later on we also assigned the Gender category with binary values (1 for Males, 0 for Females) and created a Performance category (3 for Gold, 2 for Silver, 1 for Bronze, 0 for N/A) that is just the numeric weighting of the medals."
   ]
  },
  {
   "cell_type": "markdown",
   "id": "b3d1bb2d-6cd8-4f49-a858-76b6babcef7b",
   "metadata": {},
   "source": [
    "## Exploratory Data Analysis (EDA)"
   ]
  },
  {
   "cell_type": "markdown",
   "id": "664e4328-706a-47b3-914a-0a62c98e2501",
   "metadata": {},
   "source": [
    "Now we will explore the dataset and perform our statistical analysis with Regression analysis, Variance Inflation Factor (VIF) Analysis,\n",
    "Reguralization, and Principal Component Analysis (PCA)."
   ]
  },
  {
   "cell_type": "markdown",
   "id": "f48492bc-effb-4e4a-bdc5-151f0a384ec5",
   "metadata": {},
   "source": [
    "### Distributions"
   ]
  },
  {
   "cell_type": "markdown",
   "id": "caf51323-33fe-476c-80d5-3afe08466f62",
   "metadata": {},
   "source": [
    "#### Age Distribution"
   ]
  },
  {
   "cell_type": "code",
   "execution_count": 3,
   "id": "60c24652-021c-44f6-8b77-70280be6d566",
   "metadata": {},
   "outputs": [
    {
     "name": "stderr",
     "output_type": "stream",
     "text": [
      "C:\\Users\\munag\\anaconda3\\Lib\\site-packages\\seaborn\\_oldcore.py:1119: FutureWarning: use_inf_as_na option is deprecated and will be removed in a future version. Convert inf values to NaN before operating instead.\n",
      "  with pd.option_context('mode.use_inf_as_na', True):\n"
     ]
    },
    {
     "data": {
      "image/png": "[encoded data removed]",
      "text/plain": [
       "<Figure size 600x400 with 1 Axes>"
      ]
     },
     "metadata": {},
     "output_type": "display_data"
    },
    {
     "data": {
      "text/plain": [
       "count    18776.000000\n",
       "mean        20.622870\n",
       "std          3.745659\n",
       "min         11.000000\n",
       "25%         18.000000\n",
       "50%         20.000000\n",
       "75%         23.000000\n",
       "max         41.000000\n",
       "Name: Age, dtype: float64"
      ]
     },
     "execution_count": 3,
     "metadata": {},
     "output_type": "execute_result"
    }
   ],
   "source": [
    "plt.figure(figsize=(6, 4))\n",
    "sns.histplot(swimmers['Age'], kde=True, bins=20)\n",
    "plt.title('Age Distribution')\n",
    "plt.show()\n",
    "\n",
    "age_stats = swimmers['Age'].describe()\n",
    "age_stats"
   ]
  },
  {
   "cell_type": "markdown",
   "id": "b7fe4418-07d6-4234-9193-430fe907b709",
   "metadata": {},
   "source": [
    "Based on the distribution, we see that the average age of swimmers is approximately 20.62 years, with a standard deviation of 3.74 years. The age range is from 11 to 41 years. Most swimmers are in their late teens to early twenties."
   ]
  },
  {
   "cell_type": "markdown",
   "id": "b09df4ef-e116-4b5f-b059-f6ff448c46c5",
   "metadata": {},
   "source": [
    "#### Height Distribution"
   ]
  },
  {
   "cell_type": "code",
   "execution_count": 4,
   "id": "716d5565-3e3b-4cbb-a897-25f4906b294e",
   "metadata": {},
   "outputs": [
    {
     "name": "stderr",
     "output_type": "stream",
     "text": [
      "C:\\Users\\munag\\anaconda3\\Lib\\site-packages\\seaborn\\_oldcore.py:1119: FutureWarning: use_inf_as_na option is deprecated and will be removed in a future version. Convert inf values to NaN before operating instead.\n",
      "  with pd.option_context('mode.use_inf_as_na', True):\n"
     ]
    },
    {
     "data": {
      "image/png": "[encoded data removed]",
      "text/plain": [
       "<Figure size 600x400 with 1 Axes>"
      ]
     },
     "metadata": {},
     "output_type": "display_data"
    },
    {
     "data": {
      "text/plain": [
       "count    18776.000000\n",
       "mean       178.602844\n",
       "std          9.888285\n",
       "min        138.000000\n",
       "25%        171.000000\n",
       "50%        179.000000\n",
       "75%        186.000000\n",
       "max        209.000000\n",
       "Name: Height, dtype: float64"
      ]
     },
     "execution_count": 4,
     "metadata": {},
     "output_type": "execute_result"
    }
   ],
   "source": [
    "plt.figure(figsize=(6, 4))\n",
    "sns.histplot(swimmers['Height'], kde=True, bins=20)\n",
    "plt.title('Height Distribution')\n",
    "plt.show()\n",
    "\n",
    "height_stats = swimmers['Height'].describe()\n",
    "height_stats"
   ]
  },
  {
   "cell_type": "markdown",
   "id": "cf8f834c-538b-48e1-a5bf-ff4b7342c359",
   "metadata": {},
   "source": [
    "Based on the distribution, we see that the average height is around 178.60 cm, with a standard deviation of 9.88 cm. Heights range from 138 cm to 209 cm. Heights are fairly normally distributed with most swimmers around 170-185 cm."
   ]
  },
  {
   "cell_type": "markdown",
   "id": "c526ae69-9ab3-4c4d-86af-487a6b9ae8bc",
   "metadata": {},
   "source": [
    "#### Weight Distribution"
   ]
  },
  {
   "cell_type": "code",
   "execution_count": 5,
   "id": "b25a3bf0-33e0-4a64-aa79-70ae10d4d5a7",
   "metadata": {},
   "outputs": [
    {
     "name": "stderr",
     "output_type": "stream",
     "text": [
      "C:\\Users\\munag\\anaconda3\\Lib\\site-packages\\seaborn\\_oldcore.py:1119: FutureWarning: use_inf_as_na option is deprecated and will be removed in a future version. Convert inf values to NaN before operating instead.\n",
      "  with pd.option_context('mode.use_inf_as_na', True):\n"
     ]
    },
    {
     "data": {
      "image/png": "[encoded data removed]",
      "text/plain": [
       "<Figure size 600x400 with 1 Axes>"
      ]
     },
     "metadata": {},
     "output_type": "display_data"
    },
    {
     "data": {
      "text/plain": [
       "count    18776.000000\n",
       "mean        70.597784\n",
       "std         11.329306\n",
       "min         39.000000\n",
       "25%         62.000000\n",
       "50%         70.000000\n",
       "75%         79.000000\n",
       "max        114.000000\n",
       "Name: Weight, dtype: float64"
      ]
     },
     "execution_count": 5,
     "metadata": {},
     "output_type": "execute_result"
    }
   ],
   "source": [
    "plt.figure(figsize=(6, 4))\n",
    "sns.histplot(swimmers['Weight'], kde=True, bins=20)\n",
    "plt.title('Weight Distribution')\n",
    "plt.show()\n",
    "\n",
    "weight_stats = swimmers['Weight'].describe()\n",
    "weight_stats"
   ]
  },
  {
   "cell_type": "markdown",
   "id": "2c745297-c3ef-440f-9a4a-5e42c66f7492",
   "metadata": {},
   "source": [
    "Based on the distribution, we see that the average weight is about 70.59 kg, with a standard deviation of 11.32 kg. Weights range from 39 kg to 114 kg. Weights are also normally distributed, with most swimmers around 60-80 kg."
   ]
  },
  {
   "cell_type": "markdown",
   "id": "8e50f975-1eef-4ba9-9dab-980aac62c85a",
   "metadata": {},
   "source": [
    "#### Performance Distribution"
   ]
  },
  {
   "cell_type": "code",
   "execution_count": 6,
   "id": "30198a54-073c-4fd2-85c3-963606292dcc",
   "metadata": {},
   "outputs": [
    {
     "name": "stderr",
     "output_type": "stream",
     "text": [
      "C:\\Users\\munag\\anaconda3\\Lib\\site-packages\\seaborn\\_oldcore.py:1119: FutureWarning: use_inf_as_na option is deprecated and will be removed in a future version. Convert inf values to NaN before operating instead.\n",
      "  with pd.option_context('mode.use_inf_as_na', True):\n"
     ]
    },
    {
     "data": {
      "image/png": "[encoded data removed]",
      "text/plain": [
       "<Figure size 600x400 with 1 Axes>"
      ]
     },
     "metadata": {},
     "output_type": "display_data"
    },
    {
     "data": {
      "text/plain": [
       "count    18776.000000\n",
       "mean         0.272476\n",
       "std          0.758652\n",
       "min          0.000000\n",
       "25%          0.000000\n",
       "50%          0.000000\n",
       "75%          0.000000\n",
       "max          3.000000\n",
       "Name: Performance, dtype: float64"
      ]
     },
     "execution_count": 6,
     "metadata": {},
     "output_type": "execute_result"
    }
   ],
   "source": [
    "plt.figure(figsize=(6, 4))\n",
    "sns.histplot(swimmers['Performance'], kde=True, bins=4)\n",
    "plt.title('Performance Distribution')\n",
    "plt.show()\n",
    "\n",
    "performance_stats = swimmers['Performance'].describe()\n",
    "performance_stats"
   ]
  },
  {
   "cell_type": "markdown",
   "id": "131cbe91-eaed-4adb-a8c7-b3c6b7d1b33e",
   "metadata": {},
   "source": [
    "Based on this distribution, we see that the average performance score (based on medals) is 0.27, with a standard deviation of 0.75. The majority of swimmers did not win any medals, resulting in a performance score of 0. This suggests that they were from some place after 3rd."
   ]
  },
  {
   "cell_type": "markdown",
   "id": "8077947a-1d0f-4937-8afd-2369acc03121",
   "metadata": {},
   "source": [
    "#### Gender Distribution"
   ]
  },
  {
   "cell_type": "code",
   "execution_count": 7,
   "id": "dc099f62-17ec-4080-a7b3-17f3503497fb",
   "metadata": {},
   "outputs": [
    {
     "data": {
      "image/png": "[encoded data removed]",
      "text/plain": [
       "<Figure size 600x400 with 1 Axes>"
      ]
     },
     "metadata": {},
     "output_type": "display_data"
    },
    {
     "data": {
      "text/plain": [
       "Gender\n",
       "1    54.96911\n",
       "0    45.03089\n",
       "Name: proportion, dtype: float64"
      ]
     },
     "execution_count": 7,
     "metadata": {},
     "output_type": "execute_result"
    }
   ],
   "source": [
    "plt.figure(figsize=(6, 4))\n",
    "sns.countplot(x='Gender', data=swimmers)\n",
    "plt.title('Gender Distribution')\n",
    "plt.show()\n",
    "\n",
    "gender_counts = swimmers['Gender'].value_counts(normalize=True) * 100\n",
    "gender_counts"
   ]
  },
  {
   "cell_type": "markdown",
   "id": "c3b17ca0-7f18-429c-9e7f-d5298b75ac70",
   "metadata": {},
   "source": [
    "Based on this plot, we found that more of the swimmers were male with 57.53% of the swimmers are male (Gender = 1), and 42.47% are female (Gender = 0)."
   ]
  },
  {
   "cell_type": "markdown",
   "id": "e6232574-6a6f-46e9-9a4d-bf1af669cb5e",
   "metadata": {},
   "source": [
    "### Regression Analysis"
   ]
  },
  {
   "cell_type": "markdown",
   "id": "09666dda-dc0e-4efa-b304-2b1b14345cf3",
   "metadata": {},
   "source": [
    "Now we will perform regression analysis on the variables towards the response variable which is the Performance."
   ]
  },
  {
   "cell_type": "code",
   "execution_count": 8,
   "id": "71fecbad-7136-4b3c-8bd5-ac8f05797eff",
   "metadata": {},
   "outputs": [
    {
     "data": {
      "text/html": [
       "<table class=\"simpletable\">\n",
       "<caption>OLS Regression Results</caption>\n",
       "<tr>\n",
       "  <th>Dep. Variable:</th>       <td>Performance</td>   <th>  R-squared:         </th> <td>   0.027</td> \n",
       "</tr>\n",
       "<tr>\n",
       "  <th>Model:</th>                   <td>OLS</td>       <th>  Adj. R-squared:    </th> <td>   0.026</td> \n",
       "</tr>\n",
       "<tr>\n",
       "  <th>Method:</th>             <td>Least Squares</td>  <th>  F-statistic:       </th> <td>   57.11</td> \n",
       "</tr>\n",
       "<tr>\n",
       "  <th>Date:</th>             <td>Thu, 06 Jun 2024</td> <th>  Prob (F-statistic):</th> <td>1.67e-103</td>\n",
       "</tr>\n",
       "<tr>\n",
       "  <th>Time:</th>                 <td>18:32:48</td>     <th>  Log-Likelihood:    </th> <td> -21202.</td> \n",
       "</tr>\n",
       "<tr>\n",
       "  <th>No. Observations:</th>      <td> 18776</td>      <th>  AIC:               </th> <td>4.242e+04</td>\n",
       "</tr>\n",
       "<tr>\n",
       "  <th>Df Residuals:</th>          <td> 18766</td>      <th>  BIC:               </th> <td>4.250e+04</td>\n",
       "</tr>\n",
       "<tr>\n",
       "  <th>Df Model:</th>              <td>     9</td>      <th>                     </th>     <td> </td>    \n",
       "</tr>\n",
       "<tr>\n",
       "  <th>Covariance Type:</th>      <td>nonrobust</td>    <th>                     </th>     <td> </td>    \n",
       "</tr>\n",
       "</table>\n",
       "<table class=\"simpletable\">\n",
       "<tr>\n",
       "              <td></td>                 <th>coef</th>     <th>std err</th>      <th>t</th>      <th>P>|t|</th>  <th>[0.025</th>    <th>0.975]</th>  \n",
       "</tr>\n",
       "<tr>\n",
       "  <th>const</th>                     <td>   -0.2783</td> <td>    1.010</td> <td>   -0.275</td> <td> 0.783</td> <td>   -2.258</td> <td>    1.701</td>\n",
       "</tr>\n",
       "<tr>\n",
       "  <th>Age</th>                       <td>    0.1115</td> <td>    0.041</td> <td>    2.740</td> <td> 0.006</td> <td>    0.032</td> <td>    0.191</td>\n",
       "</tr>\n",
       "<tr>\n",
       "  <th>Height</th>                    <td>    0.0040</td> <td>    0.007</td> <td>    0.558</td> <td> 0.577</td> <td>   -0.010</td> <td>    0.018</td>\n",
       "</tr>\n",
       "<tr>\n",
       "  <th>Weight</th>                    <td>   -0.0656</td> <td>    0.014</td> <td>   -4.749</td> <td> 0.000</td> <td>   -0.093</td> <td>   -0.039</td>\n",
       "</tr>\n",
       "<tr>\n",
       "  <th>Gender</th>                    <td>    1.6989</td> <td>    0.390</td> <td>    4.356</td> <td> 0.000</td> <td>    0.934</td> <td>    2.463</td>\n",
       "</tr>\n",
       "<tr>\n",
       "  <th>Age_Height_Interaction</th>    <td>   -0.0009</td> <td>    0.000</td> <td>   -2.813</td> <td> 0.005</td> <td>   -0.001</td> <td>   -0.000</td>\n",
       "</tr>\n",
       "<tr>\n",
       "  <th>Age_Weight_Interaction</th>    <td>    0.0006</td> <td>    0.000</td> <td>    2.328</td> <td> 0.020</td> <td> 9.64e-05</td> <td>    0.001</td>\n",
       "</tr>\n",
       "<tr>\n",
       "  <th>Height_Weight_Interaction</th> <td>    0.0004</td> <td> 7.38e-05</td> <td>    5.014</td> <td> 0.000</td> <td>    0.000</td> <td>    0.001</td>\n",
       "</tr>\n",
       "<tr>\n",
       "  <th>Gender_Height_Interaction</th> <td>   -0.0087</td> <td>    0.002</td> <td>   -3.472</td> <td> 0.001</td> <td>   -0.014</td> <td>   -0.004</td>\n",
       "</tr>\n",
       "<tr>\n",
       "  <th>Gender_Weight_Interaction</th> <td>   -0.0063</td> <td>    0.003</td> <td>   -2.494</td> <td> 0.013</td> <td>   -0.011</td> <td>   -0.001</td>\n",
       "</tr>\n",
       "</table>\n",
       "<table class=\"simpletable\">\n",
       "<tr>\n",
       "  <th>Omnibus:</th>       <td>9923.135</td> <th>  Durbin-Watson:     </th> <td>   1.295</td> \n",
       "</tr>\n",
       "<tr>\n",
       "  <th>Prob(Omnibus):</th>  <td> 0.000</td>  <th>  Jarque-Bera (JB):  </th> <td>51316.496</td>\n",
       "</tr>\n",
       "<tr>\n",
       "  <th>Skew:</th>           <td> 2.666</td>  <th>  Prob(JB):          </th> <td>    0.00</td> \n",
       "</tr>\n",
       "<tr>\n",
       "  <th>Kurtosis:</th>       <td> 9.096</td>  <th>  Cond. No.          </th> <td>2.55e+06</td> \n",
       "</tr>\n",
       "</table><br/><br/>Notes:<br/>[1] Standard Errors assume that the covariance matrix of the errors is correctly specified.<br/>[2] The condition number is large, 2.55e+06. This might indicate that there are<br/>strong multicollinearity or other numerical problems."
      ],
      "text/latex": [
       "\\begin{center}\n",
       "\\begin{tabular}{lclc}\n",
       "\\toprule\n",
       "\\textbf{Dep. Variable:}              &   Performance    & \\textbf{  R-squared:         } &     0.027   \\\\\n",
       "\\textbf{Model:}                      &       OLS        & \\textbf{  Adj. R-squared:    } &     0.026   \\\\\n",
       "\\textbf{Method:}                     &  Least Squares   & \\textbf{  F-statistic:       } &     57.11   \\\\\n",
       "\\textbf{Date:}                       & Thu, 06 Jun 2024 & \\textbf{  Prob (F-statistic):} & 1.67e-103   \\\\\n",
       "\\textbf{Time:}                       &     18:32:48     & \\textbf{  Log-Likelihood:    } &   -21202.   \\\\\n",
       "\\textbf{No. Observations:}           &       18776      & \\textbf{  AIC:               } & 4.242e+04   \\\\\n",
       "\\textbf{Df Residuals:}               &       18766      & \\textbf{  BIC:               } & 4.250e+04   \\\\\n",
       "\\textbf{Df Model:}                   &           9      & \\textbf{                     } &             \\\\\n",
       "\\textbf{Covariance Type:}            &    nonrobust     & \\textbf{                     } &             \\\\\n",
       "\\bottomrule\n",
       "\\end{tabular}\n",
       "\\begin{tabular}{lcccccc}\n",
       "                                     & \\textbf{coef} & \\textbf{std err} & \\textbf{t} & \\textbf{P$> |$t$|$} & \\textbf{[0.025} & \\textbf{0.975]}  \\\\\n",
       "\\midrule\n",
       "\\textbf{const}                       &      -0.2783  &        1.010     &    -0.275  &         0.783        &       -2.258    &        1.701     \\\\\n",
       "\\textbf{Age}                         &       0.1115  &        0.041     &     2.740  &         0.006        &        0.032    &        0.191     \\\\\n",
       "\\textbf{Height}                      &       0.0040  &        0.007     &     0.558  &         0.577        &       -0.010    &        0.018     \\\\\n",
       "\\textbf{Weight}                      &      -0.0656  &        0.014     &    -4.749  &         0.000        &       -0.093    &       -0.039     \\\\\n",
       "\\textbf{Gender}                      &       1.6989  &        0.390     &     4.356  &         0.000        &        0.934    &        2.463     \\\\\n",
       "\\textbf{Age\\_Height\\_Interaction}    &      -0.0009  &        0.000     &    -2.813  &         0.005        &       -0.001    &       -0.000     \\\\\n",
       "\\textbf{Age\\_Weight\\_Interaction}    &       0.0006  &        0.000     &     2.328  &         0.020        &     9.64e-05    &        0.001     \\\\\n",
       "\\textbf{Height\\_Weight\\_Interaction} &       0.0004  &     7.38e-05     &     5.014  &         0.000        &        0.000    &        0.001     \\\\\n",
       "\\textbf{Gender\\_Height\\_Interaction} &      -0.0087  &        0.002     &    -3.472  &         0.001        &       -0.014    &       -0.004     \\\\\n",
       "\\textbf{Gender\\_Weight\\_Interaction} &      -0.0063  &        0.003     &    -2.494  &         0.013        &       -0.011    &       -0.001     \\\\\n",
       "\\bottomrule\n",
       "\\end{tabular}\n",
       "\\begin{tabular}{lclc}\n",
       "\\textbf{Omnibus:}       & 9923.135 & \\textbf{  Durbin-Watson:     } &     1.295  \\\\\n",
       "\\textbf{Prob(Omnibus):} &   0.000  & \\textbf{  Jarque-Bera (JB):  } & 51316.496  \\\\\n",
       "\\textbf{Skew:}          &   2.666  & \\textbf{  Prob(JB):          } &      0.00  \\\\\n",
       "\\textbf{Kurtosis:}      &   9.096  & \\textbf{  Cond. No.          } &  2.55e+06  \\\\\n",
       "\\bottomrule\n",
       "\\end{tabular}\n",
       "%\\caption{OLS Regression Results}\n",
       "\\end{center}\n",
       "\n",
       "Notes: \\newline\n",
       " [1] Standard Errors assume that the covariance matrix of the errors is correctly specified. \\newline\n",
       " [2] The condition number is large, 2.55e+06. This might indicate that there are \\newline\n",
       " strong multicollinearity or other numerical problems."
      ],
      "text/plain": [
       "<class 'statsmodels.iolib.summary.Summary'>\n",
       "\"\"\"\n",
       "                            OLS Regression Results                            \n",
       "==============================================================================\n",
       "Dep. Variable:            Performance   R-squared:                       0.027\n",
       "Model:                            OLS   Adj. R-squared:                  0.026\n",
       "Method:                 Least Squares   F-statistic:                     57.11\n",
       "Date:                Thu, 06 Jun 2024   Prob (F-statistic):          1.67e-103\n",
       "Time:                        18:32:48   Log-Likelihood:                -21202.\n",
       "No. Observations:               18776   AIC:                         4.242e+04\n",
       "Df Residuals:                   18766   BIC:                         4.250e+04\n",
       "Df Model:                           9                                         \n",
       "Covariance Type:            nonrobust                                         \n",
       "=============================================================================================\n",
       "                                coef    std err          t      P>|t|      [0.025      0.975]\n",
       "---------------------------------------------------------------------------------------------\n",
       "const                        -0.2783      1.010     -0.275      0.783      -2.258       1.701\n",
       "Age                           0.1115      0.041      2.740      0.006       0.032       0.191\n",
       "Height                        0.0040      0.007      0.558      0.577      -0.010       0.018\n",
       "Weight                       -0.0656      0.014     -4.749      0.000      -0.093      -0.039\n",
       "Gender                        1.6989      0.390      4.356      0.000       0.934       2.463\n",
       "Age_Height_Interaction       -0.0009      0.000     -2.813      0.005      -0.001      -0.000\n",
       "Age_Weight_Interaction        0.0006      0.000      2.328      0.020    9.64e-05       0.001\n",
       "Height_Weight_Interaction     0.0004   7.38e-05      5.014      0.000       0.000       0.001\n",
       "Gender_Height_Interaction    -0.0087      0.002     -3.472      0.001      -0.014      -0.004\n",
       "Gender_Weight_Interaction    -0.0063      0.003     -2.494      0.013      -0.011      -0.001\n",
       "==============================================================================\n",
       "Omnibus:                     9923.135   Durbin-Watson:                   1.295\n",
       "Prob(Omnibus):                  0.000   Jarque-Bera (JB):            51316.496\n",
       "Skew:                           2.666   Prob(JB):                         0.00\n",
       "Kurtosis:                       9.096   Cond. No.                     2.55e+06\n",
       "==============================================================================\n",
       "\n",
       "Notes:\n",
       "[1] Standard Errors assume that the covariance matrix of the errors is correctly specified.\n",
       "[2] The condition number is large, 2.55e+06. This might indicate that there are\n",
       "strong multicollinearity or other numerical problems.\n",
       "\"\"\""
      ]
     },
     "execution_count": 8,
     "metadata": {},
     "output_type": "execute_result"
    }
   ],
   "source": [
    "# Create interaction terms\n",
    "swimmers['Age_Height_Interaction'] = swimmers['Age'] * swimmers['Height']\n",
    "swimmers['Age_Weight_Interaction'] = swimmers['Age'] * swimmers['Weight']\n",
    "swimmers['Height_Weight_Interaction'] = swimmers['Height'] * swimmers['Weight']\n",
    "swimmers['Gender_Height_Interaction'] = swimmers['Gender'] * swimmers['Height']\n",
    "swimmers['Gender_Weight_Interaction'] = swimmers['Gender'] * swimmers['Weight']\n",
    "\n",
    "# Define the independent variables including interaction terms\n",
    "X_interactions = swimmers[['Age', 'Height', 'Weight', 'Gender', \n",
    "                           'Age_Height_Interaction', 'Age_Weight_Interaction', \n",
    "                           'Height_Weight_Interaction', 'Gender_Height_Interaction', \n",
    "                           'Gender_Weight_Interaction']]\n",
    "X_interactions = sm.add_constant(X_interactions)\n",
    "\n",
    "# Define the dependent variable\n",
    "y = swimmers['Performance']\n",
    "\n",
    "# Fit the regression model with interaction terms\n",
    "model_interactions = sm.OLS(y, X_interactions).fit()\n",
    "\n",
    "# Display the regression model summary with interaction terms\n",
    "interaction_summary = model_interactions.summary()\n",
    "\n",
    "interaction_summary"
   ]
  },
  {
   "cell_type": "markdown",
   "id": "f939e33f-ef32-4dc7-831f-3ed9a6aa5737",
   "metadata": {},
   "source": [
    "The multiple regression analysis with interaction terms reveals how age, height, weight, and gender, along with their interactions, impact swimming performance measured by medals won. The model explains 2.7% of the variance in performance (R-squared = 0.027), indicating some explanatory power. The coefficient for age is 0.1115 (p = 0.006), suggesting that older swimmers tend to have slightly better performance scores. Height, with a coefficient of 0.0040 (p = 0.577), is not a significant predictor, indicating it has little direct impact on performance when considering other variables. In contrast, weight has a coefficient of -0.0656 (p < 0.001), showing that increased weight is associated with lower performance scores. Gender is a significant predictor with a coefficient of 1.6989 (p < 0.001), indicating that male swimmers tend to perform better than female swimmers.\n",
    "\n",
    "The significant interaction terms highlight the complex relationships between the variables. For example, the interaction between age and height (coefficient = -0.0009, p = 0.005) and age and weight (coefficient = 0.0006, p = 0.020) suggests that the effect of age on performance varies with height and weight. The height and weight interaction (coefficient = 0.0004, p < 0.001) further underscores the combined effect of these factors. Additionally, the gender interactions with height (coefficient = -0.0087, p = 0.001) and weight (coefficient = -0.0063, p = 0.013) indicate that the impact of these physical attributes on performance differs between male and female swimmers. This underscores that swimming performance is influenced by a combination of factors rather than individual attributes alone."
   ]
  },
  {
   "cell_type": "markdown",
   "id": "d81797e6-9d1f-440f-9f63-6c2d62eeef9b",
   "metadata": {},
   "source": [
    "### Variance Inflation Factor (VIF) Analysis"
   ]
  },
  {
   "cell_type": "markdown",
   "id": "c80ed823-1516-4f80-8af1-f620d315230b",
   "metadata": {},
   "source": [
    "Now to further understand what predictors are useful, we will check for multicollinearity so we will calculate the Variance Inflation Factor (VIF) for each predictor."
   ]
  },
  {
   "cell_type": "code",
   "execution_count": 9,
   "id": "c4132284-d96d-47fe-8d7f-e54eb4e5bacc",
   "metadata": {},
   "outputs": [
    {
     "data": {
      "text/html": [
       "<div>\n",
       "<style scoped>\n",
       "    .dataframe tbody tr th:only-of-type {\n",
       "        vertical-align: middle;\n",
       "    }\n",
       "\n",
       "    .dataframe tbody tr th {\n",
       "        vertical-align: top;\n",
       "    }\n",
       "\n",
       "    .dataframe thead th {\n",
       "        text-align: right;\n",
       "    }\n",
       "</style>\n",
       "<table border=\"1\" class=\"dataframe\">\n",
       "  <thead>\n",
       "    <tr style=\"text-align: right;\">\n",
       "      <th></th>\n",
       "      <th>Variable</th>\n",
       "      <th>VIF</th>\n",
       "    </tr>\n",
       "  </thead>\n",
       "  <tbody>\n",
       "    <tr>\n",
       "      <th>0</th>\n",
       "      <td>Age</td>\n",
       "      <td>15274.515998</td>\n",
       "    </tr>\n",
       "    <tr>\n",
       "      <th>1</th>\n",
       "      <td>Height</td>\n",
       "      <td>2924.470456</td>\n",
       "    </tr>\n",
       "    <tr>\n",
       "      <th>2</th>\n",
       "      <td>Weight</td>\n",
       "      <td>28722.385128</td>\n",
       "    </tr>\n",
       "    <tr>\n",
       "      <th>3</th>\n",
       "      <td>Gender</td>\n",
       "      <td>2355.114755</td>\n",
       "    </tr>\n",
       "    <tr>\n",
       "      <th>4</th>\n",
       "      <td>Age_Height_Interaction</td>\n",
       "      <td>27134.953099</td>\n",
       "    </tr>\n",
       "    <tr>\n",
       "      <th>5</th>\n",
       "      <td>Age_Weight_Interaction</td>\n",
       "      <td>3729.476483</td>\n",
       "    </tr>\n",
       "    <tr>\n",
       "      <th>6</th>\n",
       "      <td>Height_Weight_Interaction</td>\n",
       "      <td>19140.134970</td>\n",
       "    </tr>\n",
       "    <tr>\n",
       "      <th>7</th>\n",
       "      <td>Gender_Height_Interaction</td>\n",
       "      <td>3630.313534</td>\n",
       "    </tr>\n",
       "    <tr>\n",
       "      <th>8</th>\n",
       "      <td>Gender_Weight_Interaction</td>\n",
       "      <td>698.277307</td>\n",
       "    </tr>\n",
       "  </tbody>\n",
       "</table>\n",
       "</div>"
      ],
      "text/plain": [
       "                    Variable           VIF\n",
       "0                        Age  15274.515998\n",
       "1                     Height   2924.470456\n",
       "2                     Weight  28722.385128\n",
       "3                     Gender   2355.114755\n",
       "4     Age_Height_Interaction  27134.953099\n",
       "5     Age_Weight_Interaction   3729.476483\n",
       "6  Height_Weight_Interaction  19140.134970\n",
       "7  Gender_Height_Interaction   3630.313534\n",
       "8  Gender_Weight_Interaction    698.277307"
      ]
     },
     "execution_count": 9,
     "metadata": {},
     "output_type": "execute_result"
    }
   ],
   "source": [
    "X_interactions_vif = X_interactions.drop(columns='const')\n",
    "vif_data = pd.DataFrame()\n",
    "vif_data['Variable'] = X_interactions_vif.columns\n",
    "vif_data['VIF'] = [variance_inflation_factor(X_interactions_vif.values, i) for i in range(X_interactions_vif.shape[1])]\n",
    "\n",
    "vif_data"
   ]
  },
  {
   "cell_type": "markdown",
   "id": "70e21a66-dfb0-4ed6-b4d8-b86c41845c53",
   "metadata": {},
   "source": [
    "The Variance Inflation Factor (VIF) analysis reveals substantial multicollinearity among the predictors in the regression model. Specifically, weight shows the highest VIF value at 28,722.39, indicating severe multicollinearity. Similarly, age and its interaction terms also show extremely high VIF values, such as age itself (15,274.52) and age-height interaction (27,134.95). These high VIF values suggest that these predictors are highly correlated with other variables in the model, which can inflate the standard errors of the coefficients, making the model less reliable.\n",
    "\n",
    "Other predictors like height (VIF = 2,924.47), gender (VIF = 2,355.11), and their interaction terms also exhibit high VIF values, further confirming multicollinearity issues. The gender-weight interaction term, with a VIF of 698.28, still indicates a problematic level of multicollinearity, albeit lower than the others. This high degree of multicollinearity implies that the estimates of the regression coefficients are not reliable, and addressing this issue is necessary before proceeding with further analyses such as regularization techniques or Principal Component Analysis (PCA) to ensure a more stable and interpretable model."
   ]
  },
  {
   "cell_type": "markdown",
   "id": "02cd5ed2-ae6d-4934-a428-ceb97707c670",
   "metadata": {},
   "source": [
    "### Regularization Technique: Elastic Net"
   ]
  },
  {
   "cell_type": "markdown",
   "id": "63eaf5c7-7b6c-41ab-95dc-d680d67ab030",
   "metadata": {},
   "source": [
    "Given the high multicollinearity indicated by the VIF analysis, regularization techniques are essential to mitigate this issue and improve the reliability of the model. Among the regularization methods we choose Elastic Net Regression. Elastic Net combines the benefits of both Ridge and Lasso regression by applying both L2 (Ridge) and L1 (Lasso) penalties, making it particularly effective for handling datasets with high multicollinearity and performing feature selection."
   ]
  },
  {
   "cell_type": "code",
   "execution_count": 10,
   "id": "2175c13d-a619-4142-b2ea-5d9c96677014",
   "metadata": {},
   "outputs": [
    {
     "data": {
      "text/html": [
       "<div>\n",
       "<style scoped>\n",
       "    .dataframe tbody tr th:only-of-type {\n",
       "        vertical-align: middle;\n",
       "    }\n",
       "\n",
       "    .dataframe tbody tr th {\n",
       "        vertical-align: top;\n",
       "    }\n",
       "\n",
       "    .dataframe thead th {\n",
       "        text-align: right;\n",
       "    }\n",
       "</style>\n",
       "<table border=\"1\" class=\"dataframe\">\n",
       "  <thead>\n",
       "    <tr style=\"text-align: right;\">\n",
       "      <th></th>\n",
       "      <th>Age</th>\n",
       "      <th>Height</th>\n",
       "      <th>Weight</th>\n",
       "      <th>Gender</th>\n",
       "      <th>Age_Height_Interaction</th>\n",
       "      <th>Age_Weight_Interaction</th>\n",
       "      <th>Height_Weight_Interaction</th>\n",
       "      <th>Gender_Height_Interaction</th>\n",
       "      <th>Gender_Weight_Interaction</th>\n",
       "    </tr>\n",
       "  </thead>\n",
       "  <tbody>\n",
       "    <tr>\n",
       "      <th>0.001000</th>\n",
       "      <td>0.000161</td>\n",
       "      <td>0.000837</td>\n",
       "      <td>0.003048</td>\n",
       "      <td>-0.168732</td>\n",
       "      <td>-0.000031</td>\n",
       "      <td>0.000140</td>\n",
       "      <td>0.000012</td>\n",
       "      <td>-0.001005</td>\n",
       "      <td>0.002184</td>\n",
       "    </tr>\n",
       "    <tr>\n",
       "      <th>0.003508</th>\n",
       "      <td>0.000086</td>\n",
       "      <td>0.000815</td>\n",
       "      <td>0.003056</td>\n",
       "      <td>-0.141577</td>\n",
       "      <td>-0.000034</td>\n",
       "      <td>0.000140</td>\n",
       "      <td>0.000012</td>\n",
       "      <td>-0.001143</td>\n",
       "      <td>0.002214</td>\n",
       "    </tr>\n",
       "    <tr>\n",
       "      <th>0.006015</th>\n",
       "      <td>-0.000013</td>\n",
       "      <td>0.000792</td>\n",
       "      <td>0.003065</td>\n",
       "      <td>-0.117487</td>\n",
       "      <td>-0.000036</td>\n",
       "      <td>0.000140</td>\n",
       "      <td>0.000011</td>\n",
       "      <td>-0.001266</td>\n",
       "      <td>0.002242</td>\n",
       "    </tr>\n",
       "    <tr>\n",
       "      <th>0.008523</th>\n",
       "      <td>0.000000</td>\n",
       "      <td>0.000762</td>\n",
       "      <td>0.003073</td>\n",
       "      <td>-0.096071</td>\n",
       "      <td>-0.000038</td>\n",
       "      <td>0.000140</td>\n",
       "      <td>0.000011</td>\n",
       "      <td>-0.001376</td>\n",
       "      <td>0.002266</td>\n",
       "    </tr>\n",
       "    <tr>\n",
       "      <th>0.011030</th>\n",
       "      <td>-0.006792</td>\n",
       "      <td>0.000392</td>\n",
       "      <td>0.003275</td>\n",
       "      <td>-0.075238</td>\n",
       "      <td>-0.000026</td>\n",
       "      <td>0.000147</td>\n",
       "      <td>0.000006</td>\n",
       "      <td>-0.001455</td>\n",
       "      <td>0.002445</td>\n",
       "    </tr>\n",
       "    <tr>\n",
       "      <th>...</th>\n",
       "      <td>...</td>\n",
       "      <td>...</td>\n",
       "      <td>...</td>\n",
       "      <td>...</td>\n",
       "      <td>...</td>\n",
       "      <td>...</td>\n",
       "      <td>...</td>\n",
       "      <td>...</td>\n",
       "      <td>...</td>\n",
       "    </tr>\n",
       "    <tr>\n",
       "      <th>0.489970</th>\n",
       "      <td>-0.004997</td>\n",
       "      <td>0.000302</td>\n",
       "      <td>0.003130</td>\n",
       "      <td>0.000000</td>\n",
       "      <td>-0.000031</td>\n",
       "      <td>0.000151</td>\n",
       "      <td>0.000007</td>\n",
       "      <td>-0.001551</td>\n",
       "      <td>0.001653</td>\n",
       "    </tr>\n",
       "    <tr>\n",
       "      <th>0.492477</th>\n",
       "      <td>-0.004997</td>\n",
       "      <td>0.000301</td>\n",
       "      <td>0.003129</td>\n",
       "      <td>0.000000</td>\n",
       "      <td>-0.000031</td>\n",
       "      <td>0.000152</td>\n",
       "      <td>0.000007</td>\n",
       "      <td>-0.001549</td>\n",
       "      <td>0.001649</td>\n",
       "    </tr>\n",
       "    <tr>\n",
       "      <th>0.494985</th>\n",
       "      <td>-0.004997</td>\n",
       "      <td>0.000301</td>\n",
       "      <td>0.003129</td>\n",
       "      <td>0.000000</td>\n",
       "      <td>-0.000031</td>\n",
       "      <td>0.000152</td>\n",
       "      <td>0.000007</td>\n",
       "      <td>-0.001547</td>\n",
       "      <td>0.001644</td>\n",
       "    </tr>\n",
       "    <tr>\n",
       "      <th>0.497492</th>\n",
       "      <td>-0.004997</td>\n",
       "      <td>0.000300</td>\n",
       "      <td>0.003128</td>\n",
       "      <td>0.000000</td>\n",
       "      <td>-0.000031</td>\n",
       "      <td>0.000152</td>\n",
       "      <td>0.000007</td>\n",
       "      <td>-0.001546</td>\n",
       "      <td>0.001639</td>\n",
       "    </tr>\n",
       "    <tr>\n",
       "      <th>0.500000</th>\n",
       "      <td>-0.004997</td>\n",
       "      <td>0.000299</td>\n",
       "      <td>0.003127</td>\n",
       "      <td>0.000000</td>\n",
       "      <td>-0.000031</td>\n",
       "      <td>0.000152</td>\n",
       "      <td>0.000007</td>\n",
       "      <td>-0.001544</td>\n",
       "      <td>0.001635</td>\n",
       "    </tr>\n",
       "  </tbody>\n",
       "</table>\n",
       "<p>200 rows × 9 columns</p>\n",
       "</div>"
      ],
      "text/plain": [
       "               Age    Height    Weight    Gender  Age_Height_Interaction  \\\n",
       "0.001000  0.000161  0.000837  0.003048 -0.168732               -0.000031   \n",
       "0.003508  0.000086  0.000815  0.003056 -0.141577               -0.000034   \n",
       "0.006015 -0.000013  0.000792  0.003065 -0.117487               -0.000036   \n",
       "0.008523  0.000000  0.000762  0.003073 -0.096071               -0.000038   \n",
       "0.011030 -0.006792  0.000392  0.003275 -0.075238               -0.000026   \n",
       "...            ...       ...       ...       ...                     ...   \n",
       "0.489970 -0.004997  0.000302  0.003130  0.000000               -0.000031   \n",
       "0.492477 -0.004997  0.000301  0.003129  0.000000               -0.000031   \n",
       "0.494985 -0.004997  0.000301  0.003129  0.000000               -0.000031   \n",
       "0.497492 -0.004997  0.000300  0.003128  0.000000               -0.000031   \n",
       "0.500000 -0.004997  0.000299  0.003127  0.000000               -0.000031   \n",
       "\n",
       "          Age_Weight_Interaction  Height_Weight_Interaction  \\\n",
       "0.001000                0.000140                   0.000012   \n",
       "0.003508                0.000140                   0.000012   \n",
       "0.006015                0.000140                   0.000011   \n",
       "0.008523                0.000140                   0.000011   \n",
       "0.011030                0.000147                   0.000006   \n",
       "...                          ...                        ...   \n",
       "0.489970                0.000151                   0.000007   \n",
       "0.492477                0.000152                   0.000007   \n",
       "0.494985                0.000152                   0.000007   \n",
       "0.497492                0.000152                   0.000007   \n",
       "0.500000                0.000152                   0.000007   \n",
       "\n",
       "          Gender_Height_Interaction  Gender_Weight_Interaction  \n",
       "0.001000                  -0.001005                   0.002184  \n",
       "0.003508                  -0.001143                   0.002214  \n",
       "0.006015                  -0.001266                   0.002242  \n",
       "0.008523                  -0.001376                   0.002266  \n",
       "0.011030                  -0.001455                   0.002445  \n",
       "...                             ...                        ...  \n",
       "0.489970                  -0.001551                   0.001653  \n",
       "0.492477                  -0.001549                   0.001649  \n",
       "0.494985                  -0.001547                   0.001644  \n",
       "0.497492                  -0.001546                   0.001639  \n",
       "0.500000                  -0.001544                   0.001635  \n",
       "\n",
       "[200 rows x 9 columns]"
      ]
     },
     "execution_count": 10,
     "metadata": {},
     "output_type": "execute_result"
    }
   ],
   "source": [
    "response = 'Performance'\n",
    "predictors = ['Age', 'Height', 'Weight', 'Gender', 'Age_Height_Interaction',\n",
    "              'Age_Weight_Interaction', 'Height_Weight_Interaction', \n",
    "              'Gender_Height_Interaction', 'Gender_Weight_Interaction']\n",
    "full_model_formula = f'{response} ~ {\" + \".join(predictors)}'\n",
    "\n",
    "l1wt = 0.1\n",
    "alphas = np.linspace(1e-3, 0.5, 200)\n",
    "elastic_coefs = []\n",
    "for alpha in alphas:\n",
    "    elastic_fit = smf.ols(full_model_formula, data=swimmers).\\\n",
    "                fit_regularized(method='elastic_net', alpha=alpha, L1_wt=l1wt)\n",
    "    elastic_coefs.append(elastic_fit.params[1:])\n",
    "\n",
    "# Dataframe of coefficients\n",
    "elastic_coefs = pd.DataFrame(elastic_coefs, index=alphas)\n",
    "elastic_coefs"
   ]
  },
  {
   "cell_type": "code",
   "execution_count": 11,
   "id": "1b6d6ee4-3fe2-4b5b-a977-8865f1e172f5",
   "metadata": {},
   "outputs": [
    {
     "data": {
      "image/png": "[encoded data removed]",
      "text/plain": [
       "<Figure size 700x700 with 1 Axes>"
      ]
     },
     "metadata": {},
     "output_type": "display_data"
    },
    {
     "name": "stdout",
     "output_type": "stream",
     "text": [
      "Series([], dtype: float64)\n",
      "                            OLS Regression Results                            \n",
      "==============================================================================\n",
      "Dep. Variable:            Performance   R-squared:                       0.025\n",
      "Model:                            OLS   Adj. R-squared:                  0.025\n",
      "Method:                 Least Squares   F-statistic:                     69.23\n",
      "Date:                Thu, 06 Jun 2024   Prob (F-statistic):           3.36e-99\n",
      "Time:                        18:33:15   Log-Likelihood:                -21216.\n",
      "No. Observations:               18776   AIC:                         4.245e+04\n",
      "Df Residuals:                   18768   BIC:                         4.251e+04\n",
      "Df Model:                           7                                         \n",
      "Covariance Type:            nonrobust                                         \n",
      "=============================================================================================\n",
      "                                coef    std err          t      P>|t|      [0.025      0.975]\n",
      "---------------------------------------------------------------------------------------------\n",
      "Intercept                    -0.2066      0.718     -0.288      0.774      -1.615       1.202\n",
      "Height                       -0.0003      0.005     -0.064      0.949      -0.010       0.009\n",
      "Weight                       -0.0110      0.009     -1.184      0.237      -0.029       0.007\n",
      "Age_Height_Interaction    -6.073e-05   7.42e-05     -0.818      0.413      -0.000    8.48e-05\n",
      "Age_Weight_Interaction        0.0001      0.000      0.764      0.445      -0.000       0.001\n",
      "Height_Weight_Interaction     0.0001   5.61e-05      2.107      0.035    8.22e-06       0.000\n",
      "Gender_Height_Interaction     0.0008      0.001      0.807      0.420      -0.001       0.003\n",
      "Gender_Weight_Interaction    -0.0060      0.002     -2.409      0.016      -0.011      -0.001\n",
      "==============================================================================\n",
      "Omnibus:                     9931.913   Durbin-Watson:                   1.294\n",
      "Prob(Omnibus):                  0.000   Jarque-Bera (JB):            51314.452\n",
      "Skew:                           2.670   Prob(JB):                         0.00\n",
      "Kurtosis:                       9.089   Cond. No.                     1.79e+06\n",
      "==============================================================================\n",
      "\n",
      "Notes:\n",
      "[1] Standard Errors assume that the covariance matrix of the errors is correctly specified.\n",
      "[2] The condition number is large, 1.79e+06. This might indicate that there are\n",
      "strong multicollinearity or other numerical problems.\n"
     ]
    }
   ],
   "source": [
    "# plot each coefficient\n",
    "fig, ax = plt.subplots(figsize=(7, 7))\n",
    "for column in elastic_coefs.columns:\n",
    "    ax.plot(alphas, elastic_coefs[column], label=column)\n",
    "ax.set_xlabel('alpha')\n",
    "ax.set_ylabel('coefficient')\n",
    "plt.title('Elastic Net Coefficients as a Function of Alpha')\n",
    "plt.show()\n",
    "\n",
    "# Final model fitting\n",
    "final_fit = smf.ols(full_model_formula, data=swimmers).\\\n",
    "                fit_regularized(method='elastic_net', alpha=0.1, L1_wt=0.1)\n",
    "\n",
    "# Display non-zero coefficients\n",
    "print(final_fit.params[final_fit.params > 1e-2])\n",
    "\n",
    "# Final model summary with selected parameters\n",
    "final_params = final_fit.params[final_fit.params != 0].index[1:]\n",
    "print(smf.ols(f'{response} ~ {\" + \".join(final_params)}', swimmers).fit().summary())"
   ]
  },
  {
   "cell_type": "markdown",
   "id": "719d58f3-afa0-4270-806e-ddd72658e3f7",
   "metadata": {},
   "source": [
    "The Elastic Net regularization results show that our model explains 2.5% of the variance in swimming performance, as indicated by the R-squared value of 0.025. While this means the model captures some relationship between the predictors and performance, most of the variability is not explained. The F-statistic of 69.23 with a very small p-value (3.36e-99) suggests that the model overall is statistically significant.\n",
    "\n",
    "In terms of individual predictors, the height-weight interaction term (coefficient = 0.0001, p = 0.035) and the gender-weight interaction term (coefficient = -0.0060, p = 0.016) were statistically significant. This means that the combined effect of height and weight has a slight positive impact on performance, while increased weight tends to negatively affect performance more for males. Other predictors like height, weight, and the various interaction terms did not show significant effects individually. The large condition number indicates potential multicollinearity, suggesting that the predictors are highly interrelated. Elastic Net helped by shrinking less important coefficients, but we might need to refine the model further and consider additional relevant factors to better explain swimming performance."
   ]
  },
  {
   "cell_type": "markdown",
   "id": "7b0e21a4-cda0-47e6-b112-813961c11a88",
   "metadata": {},
   "source": [
    "### Principal Component Analysis (PCA)"
   ]
  },
  {
   "cell_type": "markdown",
   "id": "696f2473-09fd-4824-b6dd-fbfc4327228c",
   "metadata": {},
   "source": [
    "Given the high multicollinearity indicated by the VIF values and the need for further insight after the Elastic Net regularized model, we turn to Principal Component Analysis (PCA) to address these issues. PCA helps by transforming the original correlated predictors into a set of uncorrelated components, capturing most of the variance in the data with fewer dimensions. This not only simplifies the model but also improves its interpretability and stability"
   ]
  },
  {
   "cell_type": "code",
   "execution_count": 12,
   "id": "6f32bb2f-f1c2-4254-bd75-3cff4b625879",
   "metadata": {},
   "outputs": [
    {
     "data": {
      "text/plain": [
       "(array([0.71391556, 0.19144509, 0.07474319, 0.01845047, 0.00081864]),\n",
       " <class 'statsmodels.iolib.summary.Summary'>\n",
       " \"\"\"\n",
       "                             OLS Regression Results                            \n",
       " ==============================================================================\n",
       " Dep. Variable:            Performance   R-squared:                       0.025\n",
       " Model:                            OLS   Adj. R-squared:                  0.025\n",
       " Method:                 Least Squares   F-statistic:                     95.61\n",
       " Date:                Thu, 06 Jun 2024   Prob (F-statistic):          8.36e-100\n",
       " Time:                        18:33:15   Log-Likelihood:                -21219.\n",
       " No. Observations:               18776   AIC:                         4.245e+04\n",
       " Df Residuals:                   18770   BIC:                         4.250e+04\n",
       " Df Model:                           5                                         \n",
       " Covariance Type:            nonrobust                                         \n",
       " ==============================================================================\n",
       "                  coef    std err          t      P>|t|      [0.025      0.975]\n",
       " ------------------------------------------------------------------------------\n",
       " const          0.2725      0.005     49.830      0.000       0.262       0.283\n",
       " PC1            0.0177      0.002      8.223      0.000       0.014       0.022\n",
       " PC2            0.0237      0.004      5.679      0.000       0.015       0.032\n",
       " PC3           -0.1293      0.007    -19.399      0.000      -0.142      -0.116\n",
       " PC4            0.0087      0.013      0.648      0.517      -0.018       0.035\n",
       " PC5           -0.0768      0.064     -1.205      0.228      -0.202       0.048\n",
       " ==============================================================================\n",
       " Omnibus:                     9931.178   Durbin-Watson:                   1.294\n",
       " Prob(Omnibus):                  0.000   Jarque-Bera (JB):            51258.340\n",
       " Skew:                           2.670   Prob(JB):                         0.00\n",
       " Kurtosis:                       9.083   Cond. No.                         29.5\n",
       " ==============================================================================\n",
       " \n",
       " Notes:\n",
       " [1] Standard Errors assume that the covariance matrix of the errors is correctly specified.\n",
       " \"\"\")"
      ]
     },
     "execution_count": 12,
     "metadata": {},
     "output_type": "execute_result"
    }
   ],
   "source": [
    "# Standardize the predictors\n",
    "predictors = ['Age', 'Height', 'Weight', 'Gender', 'Age_Height_Interaction',\n",
    "              'Age_Weight_Interaction', 'Height_Weight_Interaction', \n",
    "              'Gender_Height_Interaction', 'Gender_Weight_Interaction']\n",
    "X = swimmers[predictors]\n",
    "scaler = StandardScaler()\n",
    "X_standardized = scaler.fit_transform(X)\n",
    "\n",
    "# Apply PCA\n",
    "pca = PCA(n_components=5)  # Selecting 5 components for illustration\n",
    "principal_components = pca.fit_transform(X_standardized)\n",
    "\n",
    "# Create a DataFrame with the principal components\n",
    "pca_df = pd.DataFrame(data=principal_components, columns=[f'PC{i+1}' for i in range(principal_components.shape[1])])\n",
    "\n",
    "# Add a constant to the principal components for the intercept\n",
    "pca_df = sm.add_constant(pca_df)\n",
    "\n",
    "# Ensure the indices are aligned\n",
    "y = swimmers['Performance'].reset_index(drop=True)\n",
    "pca_df = pca_df.reset_index(drop=True)\n",
    "\n",
    "# Fit the regression model using the principal components\n",
    "model_pca = sm.OLS(y, pca_df).fit()\n",
    "\n",
    "# Display the explained variance ratio and the regression model summary\n",
    "explained_variance = pca.explained_variance_ratio_\n",
    "model_pca_summary = model_pca.summary()\n",
    "\n",
    "explained_variance, model_pca_summary"
   ]
  },
  {
   "cell_type": "markdown",
   "id": "6e6a92c5-f99c-498c-8787-1c4cfe406d44",
   "metadata": {},
   "source": [
    "The PCA results show that the first five principal components explain 99.93% of the variance in the data. The first component (PC1) explains 71.39%, followed by PC2 with 19.14%, PC3 with 7.47%, PC4 with 1.85%, and PC5 with 0.08%. The regression model using these components has an R-squared value of 0.025, meaning it explains 2.5% of the variance in swimming performance. Significant components include PC1, PC2, and PC3, with PC1 and PC2 positively affecting performance, while PC3 has a negative impact.\n",
    "\n",
    "These findings suggest that the main factors influencing swimming performance are captured in the first three principal components. PC1 and PC2 likely represent beneficial combinations of physical attributes, whereas PC3 indicates some combinations might negatively impact performance. This highlights the complexity of how physical attributes influence swimming success. Coaches and athletes can use these insights to focus on the most influential attributes, improving training and performance strategies for competitive swimming."
   ]
  },
  {
   "cell_type": "markdown",
   "id": "57927d47-b7c0-439f-b35b-077a04ea5b13",
   "metadata": {},
   "source": [
    "## Conclusion"
   ]
  },
  {
   "cell_type": "markdown",
   "id": "8f4f212f-6801-4eab-b452-932ce627d313",
   "metadata": {},
   "source": [
    "Based on our analysis, we found that age, height, weight, and gender do contribute to swimming performance, but the impact varies among these attributes. The regression analysis with interaction terms revealed that age and gender significantly influence performance, with older swimmers and males tending to perform better. However, the individual contributions of height and weight were less clear, as evidenced by their non-significant coefficients in the Elastic Net regularized model. The Principal Component Analysis (PCA) further emphasized the complexity of these relationships, showing that combinations of attributes captured in the principal components significantly impact performance, both positively and negatively. Overall, while age and gender are clear contributors to better swimming performance, the effects of height and weight are more nuanced and require a combined perspective to fully understand their influence."
   ]
  },
  {
   "cell_type": "markdown",
   "id": "51c112e2",
   "metadata": {},
   "source": [
    "### Limitations"
   ]
  },
  {
   "cell_type": "markdown",
   "id": "35228d0a",
   "metadata": {},
   "source": [
    "Some potential limitations of our analysis include the use of a single dataset, which may not capture the diversity of swimmers worldwide. Due to the dataset's missing values, removing them could also introduce biases. Additionally, our models explained only a small portion of the variance in swimming performance, indicating that there are other important factors not included in our analysis. The high multicollinearity among predictors posed challenges, even with regularization and PCA, which might affect the interpretations of our results."
   ]
  },
  {
   "cell_type": "markdown",
   "id": "f5193f3b-c422-4249-bb46-8cd380fbcee6",
   "metadata": {},
   "source": [
    "### Future Direction"
   ]
  },
  {
   "cell_type": "markdown",
   "id": "2fa2e0fe-4699-49ee-8fb3-37109bb52bfc",
   "metadata": {},
   "source": [
    "For future research, we should consider using a dataset that incorporates additional variables that could influence swimming performance, such as lap times. Additionally, expanding the dataset to include more diverse populations and different swimming events could provide a more comprehensive understanding of the factors contributing to success in swimming. Finally, conducting longitudinal studies to track performance over time could offer insights into how these attributes interact and change throughout an athlete's career."
   ]
  }
 ],
 "metadata": {
  "kernelspec": {
   "display_name": "Python 3 (ipykernel)",
   "language": "python",
   "name": "python3"
  },
  "language_info": {
   "codemirror_mode": {
    "name": "ipython",
    "version": 3
   },
   "file_extension": ".py",
   "mimetype": "text/x-python",
   "name": "python",
   "nbconvert_exporter": "python",
   "pygments_lexer": "ipython3",
   "version": "3.11.7"
  }
 },
 "nbformat": 4,
 "nbformat_minor": 5
}
